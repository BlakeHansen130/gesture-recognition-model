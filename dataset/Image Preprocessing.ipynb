{
 "cells": [
  {
   "cell_type": "code",
   "execution_count": null,
   "id": "2c2e2a17-661d-4448-82fb-be4f9012251f",
   "metadata": {},
   "outputs": [],
   "source": [
    "# Cell 1: 导入所需的库\n",
    "import cv2\n",
    "import numpy as np\n",
    "import matplotlib.pyplot as plt\n",
    "%matplotlib inline"
   ]
  },
  {
   "cell_type": "code",
   "execution_count": null,
   "id": "4fa913f0-e21e-4eb8-a2dc-25350d68a0a6",
   "metadata": {},
   "outputs": [],
   "source": [
    "def preprocess_image(image_path, output_path=None):\n",
    "   # 1. 读取图片\n",
    "   img = cv2.imread(str(image_path))\n",
    "   \n",
    "   # 2. 转换到YCrCb空间\n",
    "   ycrcb = cv2.cvtColor(img, cv2.COLOR_BGR2YCrCb)\n",
    "   \n",
    "   # 3. YCrCb空间的肤色范围\n",
    "   lower = np.array([0, 135, 85], dtype=np.uint8)\n",
    "   upper = np.array([255, 180, 135], dtype=np.uint8)\n",
    "   skin_mask = cv2.inRange(ycrcb, lower, upper)\n",
    "   \n",
    "   # 4. 改善掩码质量\n",
    "   kernel = np.ones((5,5), np.uint8)\n",
    "   skin_mask = cv2.morphologyEx(skin_mask, cv2.MORPH_CLOSE, kernel)\n",
    "   skin_mask = cv2.morphologyEx(skin_mask, cv2.MORPH_OPEN, kernel)\n",
    "   \n",
    "   # 5. 创建黑色背景，提取增强后的手部\n",
    "   result = np.zeros_like(img)\n",
    "   hand = cv2.convertScaleAbs(img, alpha=1.5, beta=30)\n",
    "   result[skin_mask > 0] = hand[skin_mask > 0]\n",
    "   \n",
    "   # 6. 转灰度并二值化\n",
    "   gray = cv2.cvtColor(result, cv2.COLOR_BGR2GRAY)\n",
    "   _, binary = cv2.threshold(gray, 30, 255, cv2.THRESH_BINARY)\n",
    "   \n",
    "   if output_path:\n",
    "       cv2.imwrite(str(output_path), binary)\n",
    "   return binary"
   ]
  },
  {
   "cell_type": "code",
   "execution_count": null,
   "id": "44faed5b-34f2-421e-b100-71db459cfdcf",
   "metadata": {},
   "outputs": [],
   "source": [
    "!ls"
   ]
  },
  {
   "cell_type": "code",
   "execution_count": null,
   "id": "02c0ea02-79ef-4f7d-8172-b8858f194dc9",
   "metadata": {},
   "outputs": [],
   "source": [
    "# Cell 3: 处理并显示\n",
    "input_image = \"2024-12-01_14-47.png\"\n",
    "output_image = \"output.jpg\"\n",
    "\n",
    "processed_img = preprocess_image(input_image, output_image)\n",
    "\n",
    "plt.figure(figsize=(12, 6))\n",
    "plt.subplot(1, 2, 1)\n",
    "plt.imshow(cv2.cvtColor(cv2.imread(input_image), cv2.COLOR_BGR2RGB))\n",
    "plt.title('Original image')\n",
    "plt.axis('off')\n",
    "\n",
    "plt.subplot(1, 2, 2)\n",
    "plt.imshow(processed_img, cmap='gray')\n",
    "plt.title('Processed picture')\n",
    "plt.axis('off')\n",
    "plt.show()"
   ]
  }
 ],
 "metadata": {
  "kernelspec": {
   "display_name": "Python dl_env",
   "language": "python",
   "name": "dl_env"
  },
  "language_info": {
   "codemirror_mode": {
    "name": "ipython",
    "version": 3
   },
   "file_extension": ".py",
   "mimetype": "text/x-python",
   "name": "python",
   "nbconvert_exporter": "python",
   "pygments_lexer": "ipython3",
   "version": "3.11.10"
  }
 },
 "nbformat": 4,
 "nbformat_minor": 5
}
