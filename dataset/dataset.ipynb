{
 "cells": [
  {
   "cell_type": "code",
   "execution_count": 1,
   "id": "cdd862a3-4023-4278-b20c-f0582e021224",
   "metadata": {},
   "outputs": [],
   "source": [
    "import os\n",
    "import cv2\n",
    "import numpy as np\n",
    "from sklearn.model_selection import train_test_split\n",
    "import pickle\n",
    "from tqdm import tqdm  # 用于显示进度条"
   ]
  },
  {
   "cell_type": "code",
   "execution_count": 2,
   "id": "ae7a9963-6961-4387-9258-faa79056ce8d",
   "metadata": {},
   "outputs": [],
   "source": [
    "# 设置数据集路径(改成你的实际路径)\n",
    "DATASET_PATH = \"../gesture recognition/leapGestRecog\"  # 改成你的路径\n",
    "\n",
    "# 设置参数\n",
    "TARGET_SIZE = (96, 96)  # 目标图片大小\n",
    "NUM_CLASSES = 8        # 类别数\n",
    "TRAIN_RATIO = 0.8      # 训练集比例\n",
    "CAL_RATIO = 0.1        # 校准集比例\n",
    "TEST_RATIO = 0.1       # 测试集比例\n",
    "\n",
    "# 类别名称映射(方便后续使用)\n",
    "CLASS_NAMES = {\n",
    "    '00': 'palm',\n",
    "    '01': 'l',\n",
    "    '02': 'fist',\n",
    "    '03': 'thumb',    # 原来是'04'\n",
    "    '04': 'index',    # 原来是'05'\n",
    "    '05': 'ok',       # 原来是'06'\n",
    "    '06': 'c',        # 原来是'08'\n",
    "    '07': 'down'      # 原来是'09'\n",
    "}"
   ]
  },
  {
   "cell_type": "code",
   "execution_count": 3,
   "id": "a4605fb5-b2e0-4d9c-8305-81bf5ebb6cca",
   "metadata": {},
   "outputs": [
    {
     "name": "stdout",
     "output_type": "stream",
     "text": [
      "预处理函数测试成功!\n",
      "处理后图片形状: (96, 96)\n"
     ]
    }
   ],
   "source": [
    "def preprocess_image(image_path):\n",
    "    \"\"\"\n",
    "    图片预处理函数\n",
    "    1. 读取图片\n",
    "    2. 转换为灰度图\n",
    "    3. 调整大小\n",
    "    4. 归一化\n",
    "    \"\"\"\n",
    "    # 读取图片\n",
    "    img = cv2.imread(image_path)\n",
    "    # 转换为灰度图\n",
    "    gray = cv2.cvtColor(img, cv2.COLOR_BGR2GRAY)\n",
    "    # 调整大小\n",
    "    resized = cv2.resize(gray, TARGET_SIZE)\n",
    "    # 归一化\n",
    "    normalized = resized.astype('float32') / 255.0\n",
    "    \n",
    "    return normalized\n",
    "\n",
    "def augment_image(image):\n",
    "    \"\"\"\n",
    "    数据增强函数\n",
    "    1. 随机旋转\n",
    "    2. 随机缩放\n",
    "    3. 随机亮度调整\n",
    "    \"\"\"\n",
    "    # 这里先返回原图,后面我们再添加增强\n",
    "    return image\n",
    "\n",
    "# 测试函数是否正常工作\n",
    "test_img_path = os.path.join(DATASET_PATH, \"00\", \"01_palm\", \"frame_00_01_0001.png\")\n",
    "if os.path.exists(test_img_path):\n",
    "    test_result = preprocess_image(test_img_path)\n",
    "    print(\"预处理函数测试成功!\")\n",
    "    print(\"处理后图片形状:\", test_result.shape)"
   ]
  },
  {
   "cell_type": "code",
   "execution_count": 6,
   "id": "391668db-4bbe-458b-9835-2cda0b2be6e3",
   "metadata": {},
   "outputs": [
    {
     "name": "stdout",
     "output_type": "stream",
     "text": [
      "开始收集和处理数据...\n",
      "处理文件夹 00: 01_palm\n"
     ]
    },
    {
     "name": "stderr",
     "output_type": "stream",
     "text": [
      "100%|████████████████████████████████████████| 200/200 [00:00<00:00, 676.25it/s]\n"
     ]
    },
    {
     "name": "stdout",
     "output_type": "stream",
     "text": [
      "处理文件夹 00: 02_l\n"
     ]
    },
    {
     "name": "stderr",
     "output_type": "stream",
     "text": [
      "100%|████████████████████████████████████████| 200/200 [00:00<00:00, 836.08it/s]\n"
     ]
    },
    {
     "name": "stdout",
     "output_type": "stream",
     "text": [
      "处理文件夹 00: 03_fist\n"
     ]
    },
    {
     "name": "stderr",
     "output_type": "stream",
     "text": [
      "100%|████████████████████████████████████████| 200/200 [00:00<00:00, 860.04it/s]\n"
     ]
    },
    {
     "name": "stdout",
     "output_type": "stream",
     "text": [
      "处理文件夹 00: 05_thumb\n"
     ]
    },
    {
     "name": "stderr",
     "output_type": "stream",
     "text": [
      "100%|████████████████████████████████████████| 200/200 [00:00<00:00, 891.04it/s]\n"
     ]
    },
    {
     "name": "stdout",
     "output_type": "stream",
     "text": [
      "处理文件夹 00: 06_index\n"
     ]
    },
    {
     "name": "stderr",
     "output_type": "stream",
     "text": [
      "100%|████████████████████████████████████████| 200/200 [00:00<00:00, 867.75it/s]\n"
     ]
    },
    {
     "name": "stdout",
     "output_type": "stream",
     "text": [
      "处理文件夹 00: 07_ok\n"
     ]
    },
    {
     "name": "stderr",
     "output_type": "stream",
     "text": [
      "100%|████████████████████████████████████████| 200/200 [00:00<00:00, 903.18it/s]\n"
     ]
    },
    {
     "name": "stdout",
     "output_type": "stream",
     "text": [
      "处理文件夹 00: 09_c\n"
     ]
    },
    {
     "name": "stderr",
     "output_type": "stream",
     "text": [
      "100%|████████████████████████████████████████| 200/200 [00:00<00:00, 920.99it/s]\n"
     ]
    },
    {
     "name": "stdout",
     "output_type": "stream",
     "text": [
      "处理文件夹 00: 10_down\n"
     ]
    },
    {
     "name": "stderr",
     "output_type": "stream",
     "text": [
      "100%|████████████████████████████████████████| 200/200 [00:00<00:00, 877.97it/s]\n"
     ]
    },
    {
     "name": "stdout",
     "output_type": "stream",
     "text": [
      "处理文件夹 01: 01_palm\n"
     ]
    },
    {
     "name": "stderr",
     "output_type": "stream",
     "text": [
      "100%|████████████████████████████████████████| 200/200 [00:00<00:00, 664.73it/s]\n"
     ]
    },
    {
     "name": "stdout",
     "output_type": "stream",
     "text": [
      "处理文件夹 01: 02_l\n"
     ]
    },
    {
     "name": "stderr",
     "output_type": "stream",
     "text": [
      "100%|████████████████████████████████████████| 200/200 [00:00<00:00, 901.31it/s]\n"
     ]
    },
    {
     "name": "stdout",
     "output_type": "stream",
     "text": [
      "处理文件夹 01: 03_fist\n"
     ]
    },
    {
     "name": "stderr",
     "output_type": "stream",
     "text": [
      "100%|████████████████████████████████████████| 200/200 [00:00<00:00, 911.51it/s]\n"
     ]
    },
    {
     "name": "stdout",
     "output_type": "stream",
     "text": [
      "处理文件夹 01: 05_thumb\n"
     ]
    },
    {
     "name": "stderr",
     "output_type": "stream",
     "text": [
      "100%|████████████████████████████████████████| 200/200 [00:00<00:00, 909.39it/s]\n"
     ]
    },
    {
     "name": "stdout",
     "output_type": "stream",
     "text": [
      "处理文件夹 01: 06_index\n"
     ]
    },
    {
     "name": "stderr",
     "output_type": "stream",
     "text": [
      "100%|████████████████████████████████████████| 200/200 [00:00<00:00, 884.37it/s]\n"
     ]
    },
    {
     "name": "stdout",
     "output_type": "stream",
     "text": [
      "处理文件夹 01: 07_ok\n"
     ]
    },
    {
     "name": "stderr",
     "output_type": "stream",
     "text": [
      "100%|████████████████████████████████████████| 200/200 [00:00<00:00, 884.94it/s]\n"
     ]
    },
    {
     "name": "stdout",
     "output_type": "stream",
     "text": [
      "处理文件夹 01: 09_c\n"
     ]
    },
    {
     "name": "stderr",
     "output_type": "stream",
     "text": [
      "100%|████████████████████████████████████████| 200/200 [00:00<00:00, 920.69it/s]\n"
     ]
    },
    {
     "name": "stdout",
     "output_type": "stream",
     "text": [
      "处理文件夹 01: 10_down\n"
     ]
    },
    {
     "name": "stderr",
     "output_type": "stream",
     "text": [
      "100%|████████████████████████████████████████| 200/200 [00:00<00:00, 916.23it/s]\n"
     ]
    },
    {
     "name": "stdout",
     "output_type": "stream",
     "text": [
      "处理文件夹 02: 01_palm\n"
     ]
    },
    {
     "name": "stderr",
     "output_type": "stream",
     "text": [
      "100%|████████████████████████████████████████| 200/200 [00:00<00:00, 844.41it/s]\n"
     ]
    },
    {
     "name": "stdout",
     "output_type": "stream",
     "text": [
      "处理文件夹 02: 02_l\n"
     ]
    },
    {
     "name": "stderr",
     "output_type": "stream",
     "text": [
      "100%|████████████████████████████████████████| 200/200 [00:00<00:00, 620.67it/s]\n"
     ]
    },
    {
     "name": "stdout",
     "output_type": "stream",
     "text": [
      "处理文件夹 02: 03_fist\n"
     ]
    },
    {
     "name": "stderr",
     "output_type": "stream",
     "text": [
      "100%|████████████████████████████████████████| 200/200 [00:00<00:00, 911.67it/s]\n"
     ]
    },
    {
     "name": "stdout",
     "output_type": "stream",
     "text": [
      "处理文件夹 02: 05_thumb\n"
     ]
    },
    {
     "name": "stderr",
     "output_type": "stream",
     "text": [
      "100%|████████████████████████████████████████| 200/200 [00:00<00:00, 898.11it/s]\n"
     ]
    },
    {
     "name": "stdout",
     "output_type": "stream",
     "text": [
      "处理文件夹 02: 06_index\n"
     ]
    },
    {
     "name": "stderr",
     "output_type": "stream",
     "text": [
      "100%|████████████████████████████████████████| 200/200 [00:00<00:00, 886.29it/s]\n"
     ]
    },
    {
     "name": "stdout",
     "output_type": "stream",
     "text": [
      "处理文件夹 02: 07_ok\n"
     ]
    },
    {
     "name": "stderr",
     "output_type": "stream",
     "text": [
      "100%|████████████████████████████████████████| 200/200 [00:00<00:00, 853.78it/s]\n"
     ]
    },
    {
     "name": "stdout",
     "output_type": "stream",
     "text": [
      "处理文件夹 02: 09_c\n"
     ]
    },
    {
     "name": "stderr",
     "output_type": "stream",
     "text": [
      "100%|████████████████████████████████████████| 200/200 [00:00<00:00, 890.87it/s]\n"
     ]
    },
    {
     "name": "stdout",
     "output_type": "stream",
     "text": [
      "处理文件夹 02: 10_down\n"
     ]
    },
    {
     "name": "stderr",
     "output_type": "stream",
     "text": [
      "100%|████████████████████████████████████████| 200/200 [00:00<00:00, 904.33it/s]\n"
     ]
    },
    {
     "name": "stdout",
     "output_type": "stream",
     "text": [
      "处理文件夹 03: 01_palm\n"
     ]
    },
    {
     "name": "stderr",
     "output_type": "stream",
     "text": [
      "100%|████████████████████████████████████████| 200/200 [00:00<00:00, 895.77it/s]\n"
     ]
    },
    {
     "name": "stdout",
     "output_type": "stream",
     "text": [
      "处理文件夹 03: 02_l\n"
     ]
    },
    {
     "name": "stderr",
     "output_type": "stream",
     "text": [
      "100%|████████████████████████████████████████| 200/200 [00:00<00:00, 650.58it/s]\n"
     ]
    },
    {
     "name": "stdout",
     "output_type": "stream",
     "text": [
      "处理文件夹 03: 03_fist\n"
     ]
    },
    {
     "name": "stderr",
     "output_type": "stream",
     "text": [
      "100%|████████████████████████████████████████| 200/200 [00:00<00:00, 868.34it/s]\n"
     ]
    },
    {
     "name": "stdout",
     "output_type": "stream",
     "text": [
      "处理文件夹 03: 05_thumb\n"
     ]
    },
    {
     "name": "stderr",
     "output_type": "stream",
     "text": [
      "100%|████████████████████████████████████████| 200/200 [00:00<00:00, 892.93it/s]\n"
     ]
    },
    {
     "name": "stdout",
     "output_type": "stream",
     "text": [
      "处理文件夹 03: 06_index\n"
     ]
    },
    {
     "name": "stderr",
     "output_type": "stream",
     "text": [
      "100%|████████████████████████████████████████| 200/200 [00:00<00:00, 886.61it/s]\n"
     ]
    },
    {
     "name": "stdout",
     "output_type": "stream",
     "text": [
      "处理文件夹 03: 07_ok\n"
     ]
    },
    {
     "name": "stderr",
     "output_type": "stream",
     "text": [
      "100%|████████████████████████████████████████| 200/200 [00:00<00:00, 864.39it/s]\n"
     ]
    },
    {
     "name": "stdout",
     "output_type": "stream",
     "text": [
      "处理文件夹 03: 09_c\n"
     ]
    },
    {
     "name": "stderr",
     "output_type": "stream",
     "text": [
      "100%|████████████████████████████████████████| 200/200 [00:00<00:00, 859.18it/s]\n"
     ]
    },
    {
     "name": "stdout",
     "output_type": "stream",
     "text": [
      "处理文件夹 03: 10_down\n"
     ]
    },
    {
     "name": "stderr",
     "output_type": "stream",
     "text": [
      "100%|████████████████████████████████████████| 200/200 [00:00<00:00, 837.65it/s]\n"
     ]
    },
    {
     "name": "stdout",
     "output_type": "stream",
     "text": [
      "处理文件夹 04: 01_palm\n"
     ]
    },
    {
     "name": "stderr",
     "output_type": "stream",
     "text": [
      "100%|████████████████████████████████████████| 200/200 [00:00<00:00, 882.87it/s]\n"
     ]
    },
    {
     "name": "stdout",
     "output_type": "stream",
     "text": [
      "处理文件夹 04: 02_l\n"
     ]
    },
    {
     "name": "stderr",
     "output_type": "stream",
     "text": [
      "100%|████████████████████████████████████████| 200/200 [00:00<00:00, 747.11it/s]\n"
     ]
    },
    {
     "name": "stdout",
     "output_type": "stream",
     "text": [
      "处理文件夹 04: 03_fist\n"
     ]
    },
    {
     "name": "stderr",
     "output_type": "stream",
     "text": [
      "100%|████████████████████████████████████████| 200/200 [00:00<00:00, 841.37it/s]\n"
     ]
    },
    {
     "name": "stdout",
     "output_type": "stream",
     "text": [
      "处理文件夹 04: 05_thumb\n"
     ]
    },
    {
     "name": "stderr",
     "output_type": "stream",
     "text": [
      "100%|████████████████████████████████████████| 200/200 [00:00<00:00, 890.08it/s]\n"
     ]
    },
    {
     "name": "stdout",
     "output_type": "stream",
     "text": [
      "处理文件夹 04: 06_index\n"
     ]
    },
    {
     "name": "stderr",
     "output_type": "stream",
     "text": [
      "100%|████████████████████████████████████████| 200/200 [00:00<00:00, 884.08it/s]\n"
     ]
    },
    {
     "name": "stdout",
     "output_type": "stream",
     "text": [
      "处理文件夹 04: 07_ok\n"
     ]
    },
    {
     "name": "stderr",
     "output_type": "stream",
     "text": [
      "100%|████████████████████████████████████████| 200/200 [00:00<00:00, 847.89it/s]\n"
     ]
    },
    {
     "name": "stdout",
     "output_type": "stream",
     "text": [
      "处理文件夹 04: 09_c\n"
     ]
    },
    {
     "name": "stderr",
     "output_type": "stream",
     "text": [
      "100%|████████████████████████████████████████| 200/200 [00:00<00:00, 799.24it/s]\n"
     ]
    },
    {
     "name": "stdout",
     "output_type": "stream",
     "text": [
      "处理文件夹 04: 10_down\n"
     ]
    },
    {
     "name": "stderr",
     "output_type": "stream",
     "text": [
      "100%|████████████████████████████████████████| 200/200 [00:00<00:00, 893.58it/s]\n"
     ]
    },
    {
     "name": "stdout",
     "output_type": "stream",
     "text": [
      "处理文件夹 05: 01_palm\n"
     ]
    },
    {
     "name": "stderr",
     "output_type": "stream",
     "text": [
      "100%|████████████████████████████████████████| 200/200 [00:00<00:00, 890.06it/s]\n"
     ]
    },
    {
     "name": "stdout",
     "output_type": "stream",
     "text": [
      "处理文件夹 05: 02_l\n"
     ]
    },
    {
     "name": "stderr",
     "output_type": "stream",
     "text": [
      "100%|████████████████████████████████████████| 200/200 [00:00<00:00, 842.01it/s]\n"
     ]
    },
    {
     "name": "stdout",
     "output_type": "stream",
     "text": [
      "处理文件夹 05: 03_fist\n"
     ]
    },
    {
     "name": "stderr",
     "output_type": "stream",
     "text": [
      "100%|████████████████████████████████████████| 200/200 [00:00<00:00, 702.47it/s]\n"
     ]
    },
    {
     "name": "stdout",
     "output_type": "stream",
     "text": [
      "处理文件夹 05: 05_thumb\n"
     ]
    },
    {
     "name": "stderr",
     "output_type": "stream",
     "text": [
      "100%|████████████████████████████████████████| 200/200 [00:00<00:00, 855.56it/s]\n"
     ]
    },
    {
     "name": "stdout",
     "output_type": "stream",
     "text": [
      "处理文件夹 05: 06_index\n"
     ]
    },
    {
     "name": "stderr",
     "output_type": "stream",
     "text": [
      "100%|████████████████████████████████████████| 200/200 [00:00<00:00, 800.47it/s]\n"
     ]
    },
    {
     "name": "stdout",
     "output_type": "stream",
     "text": [
      "处理文件夹 05: 07_ok\n"
     ]
    },
    {
     "name": "stderr",
     "output_type": "stream",
     "text": [
      "100%|████████████████████████████████████████| 200/200 [00:00<00:00, 824.24it/s]\n"
     ]
    },
    {
     "name": "stdout",
     "output_type": "stream",
     "text": [
      "处理文件夹 05: 09_c\n"
     ]
    },
    {
     "name": "stderr",
     "output_type": "stream",
     "text": [
      "100%|████████████████████████████████████████| 200/200 [00:00<00:00, 858.94it/s]\n"
     ]
    },
    {
     "name": "stdout",
     "output_type": "stream",
     "text": [
      "处理文件夹 05: 10_down\n"
     ]
    },
    {
     "name": "stderr",
     "output_type": "stream",
     "text": [
      "100%|████████████████████████████████████████| 200/200 [00:00<00:00, 896.61it/s]\n"
     ]
    },
    {
     "name": "stdout",
     "output_type": "stream",
     "text": [
      "处理文件夹 06: 01_palm\n"
     ]
    },
    {
     "name": "stderr",
     "output_type": "stream",
     "text": [
      "100%|████████████████████████████████████████| 200/200 [00:00<00:00, 894.82it/s]\n"
     ]
    },
    {
     "name": "stdout",
     "output_type": "stream",
     "text": [
      "处理文件夹 06: 02_l\n"
     ]
    },
    {
     "name": "stderr",
     "output_type": "stream",
     "text": [
      "100%|████████████████████████████████████████| 200/200 [00:00<00:00, 833.86it/s]\n"
     ]
    },
    {
     "name": "stdout",
     "output_type": "stream",
     "text": [
      "处理文件夹 06: 03_fist\n"
     ]
    },
    {
     "name": "stderr",
     "output_type": "stream",
     "text": [
      "100%|████████████████████████████████████████| 200/200 [00:00<00:00, 716.73it/s]\n"
     ]
    },
    {
     "name": "stdout",
     "output_type": "stream",
     "text": [
      "处理文件夹 06: 05_thumb\n"
     ]
    },
    {
     "name": "stderr",
     "output_type": "stream",
     "text": [
      "100%|████████████████████████████████████████| 200/200 [00:00<00:00, 854.50it/s]\n"
     ]
    },
    {
     "name": "stdout",
     "output_type": "stream",
     "text": [
      "处理文件夹 06: 06_index\n"
     ]
    },
    {
     "name": "stderr",
     "output_type": "stream",
     "text": [
      "100%|████████████████████████████████████████| 200/200 [00:00<00:00, 780.92it/s]\n"
     ]
    },
    {
     "name": "stdout",
     "output_type": "stream",
     "text": [
      "处理文件夹 06: 07_ok\n"
     ]
    },
    {
     "name": "stderr",
     "output_type": "stream",
     "text": [
      "100%|████████████████████████████████████████| 200/200 [00:00<00:00, 861.56it/s]\n"
     ]
    },
    {
     "name": "stdout",
     "output_type": "stream",
     "text": [
      "处理文件夹 06: 09_c\n"
     ]
    },
    {
     "name": "stderr",
     "output_type": "stream",
     "text": [
      "100%|████████████████████████████████████████| 200/200 [00:00<00:00, 793.26it/s]\n"
     ]
    },
    {
     "name": "stdout",
     "output_type": "stream",
     "text": [
      "处理文件夹 06: 10_down\n"
     ]
    },
    {
     "name": "stderr",
     "output_type": "stream",
     "text": [
      "100%|████████████████████████████████████████| 200/200 [00:00<00:00, 783.23it/s]\n"
     ]
    },
    {
     "name": "stdout",
     "output_type": "stream",
     "text": [
      "处理文件夹 07: 01_palm\n"
     ]
    },
    {
     "name": "stderr",
     "output_type": "stream",
     "text": [
      "100%|████████████████████████████████████████| 200/200 [00:00<00:00, 826.89it/s]\n"
     ]
    },
    {
     "name": "stdout",
     "output_type": "stream",
     "text": [
      "处理文件夹 07: 02_l\n"
     ]
    },
    {
     "name": "stderr",
     "output_type": "stream",
     "text": [
      "100%|████████████████████████████████████████| 200/200 [00:00<00:00, 871.19it/s]\n"
     ]
    },
    {
     "name": "stdout",
     "output_type": "stream",
     "text": [
      "处理文件夹 07: 03_fist\n"
     ]
    },
    {
     "name": "stderr",
     "output_type": "stream",
     "text": [
      "100%|████████████████████████████████████████| 200/200 [00:00<00:00, 703.86it/s]\n"
     ]
    },
    {
     "name": "stdout",
     "output_type": "stream",
     "text": [
      "处理文件夹 07: 05_thumb\n"
     ]
    },
    {
     "name": "stderr",
     "output_type": "stream",
     "text": [
      "100%|████████████████████████████████████████| 200/200 [00:00<00:00, 843.49it/s]\n"
     ]
    },
    {
     "name": "stdout",
     "output_type": "stream",
     "text": [
      "处理文件夹 07: 06_index\n"
     ]
    },
    {
     "name": "stderr",
     "output_type": "stream",
     "text": [
      "100%|████████████████████████████████████████| 200/200 [00:00<00:00, 847.63it/s]\n"
     ]
    },
    {
     "name": "stdout",
     "output_type": "stream",
     "text": [
      "处理文件夹 07: 07_ok\n"
     ]
    },
    {
     "name": "stderr",
     "output_type": "stream",
     "text": [
      "100%|████████████████████████████████████████| 200/200 [00:00<00:00, 811.40it/s]\n"
     ]
    },
    {
     "name": "stdout",
     "output_type": "stream",
     "text": [
      "处理文件夹 07: 09_c\n"
     ]
    },
    {
     "name": "stderr",
     "output_type": "stream",
     "text": [
      "100%|████████████████████████████████████████| 200/200 [00:00<00:00, 785.85it/s]\n"
     ]
    },
    {
     "name": "stdout",
     "output_type": "stream",
     "text": [
      "处理文件夹 07: 10_down\n"
     ]
    },
    {
     "name": "stderr",
     "output_type": "stream",
     "text": [
      "100%|████████████████████████████████████████| 200/200 [00:00<00:00, 826.22it/s]\n"
     ]
    },
    {
     "name": "stdout",
     "output_type": "stream",
     "text": [
      "处理文件夹 08: 01_palm\n"
     ]
    },
    {
     "name": "stderr",
     "output_type": "stream",
     "text": [
      "100%|████████████████████████████████████████| 200/200 [00:00<00:00, 308.52it/s]\n"
     ]
    },
    {
     "name": "stdout",
     "output_type": "stream",
     "text": [
      "处理文件夹 08: 02_l\n"
     ]
    },
    {
     "name": "stderr",
     "output_type": "stream",
     "text": [
      "100%|████████████████████████████████████████| 200/200 [00:00<00:00, 257.34it/s]\n"
     ]
    },
    {
     "name": "stdout",
     "output_type": "stream",
     "text": [
      "处理文件夹 08: 03_fist\n"
     ]
    },
    {
     "name": "stderr",
     "output_type": "stream",
     "text": [
      "100%|████████████████████████████████████████| 200/200 [00:00<00:00, 263.81it/s]\n"
     ]
    },
    {
     "name": "stdout",
     "output_type": "stream",
     "text": [
      "处理文件夹 08: 05_thumb\n"
     ]
    },
    {
     "name": "stderr",
     "output_type": "stream",
     "text": [
      "100%|████████████████████████████████████████| 200/200 [00:01<00:00, 132.89it/s]\n"
     ]
    },
    {
     "name": "stdout",
     "output_type": "stream",
     "text": [
      "处理文件夹 08: 06_index\n"
     ]
    },
    {
     "name": "stderr",
     "output_type": "stream",
     "text": [
      "100%|████████████████████████████████████████| 200/200 [00:00<00:00, 366.50it/s]\n"
     ]
    },
    {
     "name": "stdout",
     "output_type": "stream",
     "text": [
      "处理文件夹 08: 07_ok\n"
     ]
    },
    {
     "name": "stderr",
     "output_type": "stream",
     "text": [
      "100%|████████████████████████████████████████| 200/200 [00:00<00:00, 266.39it/s]\n"
     ]
    },
    {
     "name": "stdout",
     "output_type": "stream",
     "text": [
      "处理文件夹 08: 09_c\n"
     ]
    },
    {
     "name": "stderr",
     "output_type": "stream",
     "text": [
      "100%|████████████████████████████████████████| 200/200 [00:00<00:00, 217.52it/s]\n"
     ]
    },
    {
     "name": "stdout",
     "output_type": "stream",
     "text": [
      "处理文件夹 08: 10_down\n"
     ]
    },
    {
     "name": "stderr",
     "output_type": "stream",
     "text": [
      "100%|████████████████████████████████████████| 200/200 [00:00<00:00, 243.17it/s]\n"
     ]
    },
    {
     "name": "stdout",
     "output_type": "stream",
     "text": [
      "处理文件夹 09: 01_palm\n"
     ]
    },
    {
     "name": "stderr",
     "output_type": "stream",
     "text": [
      "100%|████████████████████████████████████████| 200/200 [00:00<00:00, 310.20it/s]\n"
     ]
    },
    {
     "name": "stdout",
     "output_type": "stream",
     "text": [
      "处理文件夹 09: 02_l\n"
     ]
    },
    {
     "name": "stderr",
     "output_type": "stream",
     "text": [
      "100%|████████████████████████████████████████| 200/200 [00:00<00:00, 305.48it/s]\n"
     ]
    },
    {
     "name": "stdout",
     "output_type": "stream",
     "text": [
      "处理文件夹 09: 03_fist\n"
     ]
    },
    {
     "name": "stderr",
     "output_type": "stream",
     "text": [
      "100%|████████████████████████████████████████| 200/200 [00:01<00:00, 143.71it/s]\n"
     ]
    },
    {
     "name": "stdout",
     "output_type": "stream",
     "text": [
      "处理文件夹 09: 05_thumb\n"
     ]
    },
    {
     "name": "stderr",
     "output_type": "stream",
     "text": [
      "100%|████████████████████████████████████████| 200/200 [00:00<00:00, 272.93it/s]\n"
     ]
    },
    {
     "name": "stdout",
     "output_type": "stream",
     "text": [
      "处理文件夹 09: 06_index\n"
     ]
    },
    {
     "name": "stderr",
     "output_type": "stream",
     "text": [
      "100%|████████████████████████████████████████| 200/200 [00:00<00:00, 311.03it/s]\n"
     ]
    },
    {
     "name": "stdout",
     "output_type": "stream",
     "text": [
      "处理文件夹 09: 07_ok\n"
     ]
    },
    {
     "name": "stderr",
     "output_type": "stream",
     "text": [
      "100%|████████████████████████████████████████| 200/200 [00:00<00:00, 315.69it/s]\n"
     ]
    },
    {
     "name": "stdout",
     "output_type": "stream",
     "text": [
      "处理文件夹 09: 09_c\n"
     ]
    },
    {
     "name": "stderr",
     "output_type": "stream",
     "text": [
      "100%|████████████████████████████████████████| 200/200 [00:00<00:00, 330.83it/s]\n"
     ]
    },
    {
     "name": "stdout",
     "output_type": "stream",
     "text": [
      "处理文件夹 09: 10_down\n"
     ]
    },
    {
     "name": "stderr",
     "output_type": "stream",
     "text": [
      "100%|████████████████████████████████████████| 200/200 [00:00<00:00, 249.85it/s]\n"
     ]
    },
    {
     "name": "stdout",
     "output_type": "stream",
     "text": [
      "\n",
      "数据收集完成!\n",
      "总图片数量: 16000\n",
      "总标签数量: 16000\n"
     ]
    }
   ],
   "source": [
    "def collect_data():\n",
    "    \"\"\"收集并处理所有图片数据\"\"\"\n",
    "    images = []\n",
    "    labels = []\n",
    "    gesture_folders = ['01_palm', '02_l', '03_fist', '05_thumb', \n",
    "                      '06_index', '07_ok', '09_c', '10_down']\n",
    "    \n",
    "    gesture_to_label = {\n",
    "        '01_palm': 0,\n",
    "        '02_l': 1,\n",
    "        '03_fist': 2,\n",
    "        '05_thumb': 3,\n",
    "        '06_index': 4,\n",
    "        '07_ok': 5,\n",
    "        '09_c': 6,\n",
    "        '10_down': 7\n",
    "    }\n",
    "    \n",
    "    # 遍历所有数字文件夹\n",
    "    for class_dir in [f\"{i:02d}\" for i in range(10)]:\n",
    "        class_path = os.path.join(DATASET_PATH, class_dir)\n",
    "        \n",
    "        # 遍历目标手势文件夹\n",
    "        for gesture_folder in gesture_folders:\n",
    "            gesture_path = os.path.join(class_path, gesture_folder)\n",
    "            if not os.path.exists(gesture_path):\n",
    "                continue\n",
    "                \n",
    "            print(f\"处理文件夹 {class_dir}: {gesture_folder}\")\n",
    "            \n",
    "            for img_name in tqdm(os.listdir(gesture_path)):\n",
    "                if img_name.endswith('.png'):\n",
    "                    img_path = os.path.join(gesture_path, img_name)\n",
    "                    processed_img = preprocess_image(img_path)\n",
    "                    images.append(processed_img)\n",
    "                    labels.append(gesture_to_label[gesture_folder])\n",
    "    \n",
    "    return np.array(images), np.array(labels)\n",
    "\n",
    "# 执行数据收集\n",
    "print(\"开始收集和处理数据...\")\n",
    "images, labels = collect_data()  # 保存返回值\n",
    "print(\"\\n数据收集完成!\")\n",
    "print(\"总图片数量:\", len(images))\n",
    "print(\"总标签数量:\", len(labels))"
   ]
  },
  {
   "cell_type": "code",
   "execution_count": 7,
   "id": "89394243-54ae-4bd9-99f5-746f38ee1c34",
   "metadata": {},
   "outputs": [
    {
     "name": "stdout",
     "output_type": "stream",
     "text": [
      "数据集划分完成!\n"
     ]
    }
   ],
   "source": [
    "def split_and_save_data(images, labels):\n",
    "    \"\"\"划分数据集并保存\"\"\"\n",
    "    # 首先分出测试集\n",
    "    X_temp, X_test, y_temp, y_test = train_test_split(\n",
    "        images, labels, \n",
    "        test_size=TEST_RATIO, \n",
    "        random_state=42,\n",
    "        stratify=labels\n",
    "    )\n",
    "    \n",
    "    # 从剩余数据中分出校准集\n",
    "    X_train, X_cal, y_train, y_cal = train_test_split(\n",
    "        X_temp, y_temp,\n",
    "        test_size=CAL_RATIO/(TRAIN_RATIO + CAL_RATIO),\n",
    "        random_state=42,\n",
    "        stratify=y_temp\n",
    "    )\n",
    "    \n",
    "    return {\n",
    "        'train': (X_train, y_train),\n",
    "        'cal': (X_cal, y_cal),\n",
    "        'test': (X_test, y_test)\n",
    "    }\n",
    "\n",
    "# 执行数据集划分\n",
    "datasets = split_and_save_data(images, labels)\n",
    "print(\"数据集划分完成!\")"
   ]
  },
  {
   "cell_type": "code",
   "execution_count": 8,
   "id": "fdd743ff-9154-4a50-bd43-5524c73bc26e",
   "metadata": {},
   "outputs": [
    {
     "name": "stdout",
     "output_type": "stream",
     "text": [
      "\n",
      "验证train数据集:\n",
      "数据集大小: 12800\n",
      "类别0 (palm): 1600张图片\n",
      "类别1 (l): 1600张图片\n",
      "类别2 (fist): 1600张图片\n",
      "类别3 (thumb): 1600张图片\n",
      "类别4 (index): 1600张图片\n",
      "类别5 (ok): 1600张图片\n",
      "类别6 (c): 1600张图片\n",
      "类别7 (down): 1600张图片\n",
      "\n",
      "验证cal数据集:\n",
      "数据集大小: 1600\n",
      "类别0 (palm): 200张图片\n",
      "类别1 (l): 200张图片\n",
      "类别2 (fist): 200张图片\n",
      "类别3 (thumb): 200张图片\n",
      "类别4 (index): 200张图片\n",
      "类别5 (ok): 200张图片\n",
      "类别6 (c): 200张图片\n",
      "类别7 (down): 200张图片\n",
      "\n",
      "验证test数据集:\n",
      "数据集大小: 1600\n",
      "类别0 (palm): 200张图片\n",
      "类别1 (l): 200张图片\n",
      "类别2 (fist): 200张图片\n",
      "类别3 (thumb): 200张图片\n",
      "类别4 (index): 200张图片\n",
      "类别5 (ok): 200张图片\n",
      "类别6 (c): 200张图片\n",
      "类别7 (down): 200张图片\n"
     ]
    }
   ],
   "source": [
    "def verify_data(name, X, y):\n",
    "    \"\"\"验证数据对应关系\"\"\"\n",
    "    print(f\"\\n验证{name}数据集:\")\n",
    "    # 1. 检查长度是否相等\n",
    "    assert len(X) == len(y), f\"{name}数据集中X和y长度不一致!\"\n",
    "    print(f\"数据集大小: {len(X)}\")\n",
    "    \n",
    "    # 2. 检查每个类别的数量\n",
    "    for i in range(NUM_CLASSES):\n",
    "        count = np.sum(y == i)\n",
    "        print(f\"类别{i} ({CLASS_NAMES[f'{i:02d}']}): {count}张图片\")\n",
    "    \n",
    "    return True\n",
    "\n",
    "# 验证所有数据集\n",
    "for name, (X, y) in datasets.items():\n",
    "    verify_data(name, X, y)"
   ]
  },
  {
   "cell_type": "code",
   "execution_count": 9,
   "id": "01334248-b26c-408d-9b4d-789723fa2572",
   "metadata": {},
   "outputs": [
    {
     "name": "stdout",
     "output_type": "stream",
     "text": [
      "\n",
      "train.pkl 保存成功!\n",
      "\n",
      "cal.pkl 保存成功!\n",
      "\n",
      "test.pkl 保存成功!\n",
      "\n",
      "所有数据处理和保存完成!\n"
     ]
    }
   ],
   "source": [
    "# 保存验证后的数据集\n",
    "for name, (X, y) in datasets.items():\n",
    "    with open(f'{name}.pkl', 'wb') as f:\n",
    "        pickle.dump((X, y), f)\n",
    "    print(f'\\n{name}.pkl 保存成功!')\n",
    "\n",
    "print(\"\\n所有数据处理和保存完成!\")"
   ]
  },
  {
   "cell_type": "code",
   "execution_count": 11,
   "id": "7da74e4e-ed2d-4545-a028-68c290bf53d6",
   "metadata": {},
   "outputs": [
    {
     "name": "stdout",
     "output_type": "stream",
     "text": [
      "X_train shape: (12800, 96, 96)\n",
      "y_train shape: (12800,)\n"
     ]
    }
   ],
   "source": [
    "# 加载数据示例\n",
    "with open('train.pkl', 'rb') as f:\n",
    "    X_train, y_train = pickle.load(f)\n",
    "    \n",
    "with open('cal.pkl', 'rb') as f:\n",
    "    X_cal, y_cal = pickle.load(f)\n",
    "    \n",
    "with open('test.pkl', 'rb') as f:\n",
    "    X_test, y_test = pickle.load(f)\n",
    "\n",
    "print(\"X_train shape:\", X_train.shape)\n",
    "print(\"y_train shape:\", y_train.shape)"
   ]
  },
  {
   "cell_type": "code",
   "execution_count": null,
   "id": "4e1c7377-92b1-473b-ba14-79b8878a5ea2",
   "metadata": {},
   "outputs": [],
   "source": [
    "# 加载并验证数据格式\n",
    "with open('train.pkl', 'rb') as f:\n",
    "    X_train, y_train = pickle.load(f)\n",
    "\n",
    "print(\"数据类型:\", X_train.dtype)  # 应该是 float32\n",
    "print(\"数据范围:\", X_train.min(), \"-\", X_train.max())  # 应该是 0-1\n",
    "print(\"数据形状:\", X_train.shape)  # (15999, 96, 96)\n",
    "\n",
    "# 如果需要添加通道维度，可以这样做：\n",
    "X_train_with_channel = X_train[..., np.newaxis]\n",
    "print(\"添加通道维度后的形状:\", X_train_with_channel.shape)  # (15999, 96, 96, 1)\n",
    "\n",
    "# 显示一张图片看看是否正确\n",
    "import matplotlib.pyplot as plt\n",
    "plt.imshow(X_train[1500], cmap='gray')\n",
    "plt.axis('off')\n",
    "plt.show()"
   ]
  }
 ],
 "metadata": {
  "kernelspec": {
   "display_name": "Python dl_env",
   "language": "python",
   "name": "dl_env"
  },
  "language_info": {
   "codemirror_mode": {
    "name": "ipython",
    "version": 3
   },
   "file_extension": ".py",
   "mimetype": "text/x-python",
   "name": "python",
   "nbconvert_exporter": "python",
   "pygments_lexer": "ipython3",
   "version": "3.11.10"
  }
 },
 "nbformat": 4,
 "nbformat_minor": 5
}
